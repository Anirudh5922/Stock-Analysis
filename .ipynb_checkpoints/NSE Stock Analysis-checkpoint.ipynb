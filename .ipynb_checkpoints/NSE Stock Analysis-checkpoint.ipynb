{
 "cells": [
  {
   "cell_type": "code",
   "execution_count": 1,
   "metadata": {},
   "outputs": [],
   "source": [
    "import numpy as np\n",
    "import pandas as pd\n",
    "import matplotlib.pyplot as plt\n",
    "import tensorflow as tf\n",
    "import seaborn as sns\n",
    "import warnings\n",
    "warnings.filterwarnings('ignore')"
   ]
  },
  {
   "cell_type": "code",
   "execution_count": 17,
   "metadata": {},
   "outputs": [],
   "source": [
    "nifty_50_df = pd.read_csv(\"NIFTY 50.csv\", index_col='Date', parse_dates=['Date'])"
   ]
  },
  {
   "cell_type": "code",
   "execution_count": 18,
   "metadata": {},
   "outputs": [
    {
     "data": {
      "text/html": [
       "<div>\n",
       "<style scoped>\n",
       "    .dataframe tbody tr th:only-of-type {\n",
       "        vertical-align: middle;\n",
       "    }\n",
       "\n",
       "    .dataframe tbody tr th {\n",
       "        vertical-align: top;\n",
       "    }\n",
       "\n",
       "    .dataframe thead th {\n",
       "        text-align: right;\n",
       "    }\n",
       "</style>\n",
       "<table border=\"1\" class=\"dataframe\">\n",
       "  <thead>\n",
       "    <tr style=\"text-align: right;\">\n",
       "      <th></th>\n",
       "      <th>Open</th>\n",
       "      <th>High</th>\n",
       "      <th>Low</th>\n",
       "      <th>Close</th>\n",
       "      <th>Volume</th>\n",
       "      <th>Turnover</th>\n",
       "      <th>P/E</th>\n",
       "      <th>P/B</th>\n",
       "      <th>Div Yield</th>\n",
       "    </tr>\n",
       "    <tr>\n",
       "      <th>Date</th>\n",
       "      <th></th>\n",
       "      <th></th>\n",
       "      <th></th>\n",
       "      <th></th>\n",
       "      <th></th>\n",
       "      <th></th>\n",
       "      <th></th>\n",
       "      <th></th>\n",
       "      <th></th>\n",
       "    </tr>\n",
       "  </thead>\n",
       "  <tbody>\n",
       "    <tr>\n",
       "      <th>2020-05-04</th>\n",
       "      <td>9533.50</td>\n",
       "      <td>9533.50</td>\n",
       "      <td>9266.95</td>\n",
       "      <td>9293.50</td>\n",
       "      <td>NaN</td>\n",
       "      <td>NaN</td>\n",
       "      <td>21.39</td>\n",
       "      <td>2.65</td>\n",
       "      <td>1.64</td>\n",
       "    </tr>\n",
       "    <tr>\n",
       "      <th>2020-05-05</th>\n",
       "      <td>9429.40</td>\n",
       "      <td>9450.90</td>\n",
       "      <td>9190.75</td>\n",
       "      <td>9205.60</td>\n",
       "      <td>725196178.0</td>\n",
       "      <td>2.970020e+11</td>\n",
       "      <td>21.19</td>\n",
       "      <td>2.62</td>\n",
       "      <td>1.65</td>\n",
       "    </tr>\n",
       "    <tr>\n",
       "      <th>2020-05-06</th>\n",
       "      <td>9226.80</td>\n",
       "      <td>9346.90</td>\n",
       "      <td>9116.50</td>\n",
       "      <td>9270.90</td>\n",
       "      <td>722185448.0</td>\n",
       "      <td>3.079810e+11</td>\n",
       "      <td>21.34</td>\n",
       "      <td>2.64</td>\n",
       "      <td>1.64</td>\n",
       "    </tr>\n",
       "    <tr>\n",
       "      <th>2020-05-07</th>\n",
       "      <td>9234.05</td>\n",
       "      <td>9277.85</td>\n",
       "      <td>9175.90</td>\n",
       "      <td>9199.05</td>\n",
       "      <td>708740416.0</td>\n",
       "      <td>5.970553e+11</td>\n",
       "      <td>21.18</td>\n",
       "      <td>2.62</td>\n",
       "      <td>1.65</td>\n",
       "    </tr>\n",
       "    <tr>\n",
       "      <th>2020-05-08</th>\n",
       "      <td>9376.95</td>\n",
       "      <td>9382.65</td>\n",
       "      <td>9238.20</td>\n",
       "      <td>9251.50</td>\n",
       "      <td>609053504.0</td>\n",
       "      <td>3.074345e+11</td>\n",
       "      <td>21.28</td>\n",
       "      <td>2.64</td>\n",
       "      <td>1.64</td>\n",
       "    </tr>\n",
       "  </tbody>\n",
       "</table>\n",
       "</div>"
      ],
      "text/plain": [
       "               Open     High      Low    Close       Volume      Turnover  \\\n",
       "Date                                                                        \n",
       "2020-05-04  9533.50  9533.50  9266.95  9293.50          NaN           NaN   \n",
       "2020-05-05  9429.40  9450.90  9190.75  9205.60  725196178.0  2.970020e+11   \n",
       "2020-05-06  9226.80  9346.90  9116.50  9270.90  722185448.0  3.079810e+11   \n",
       "2020-05-07  9234.05  9277.85  9175.90  9199.05  708740416.0  5.970553e+11   \n",
       "2020-05-08  9376.95  9382.65  9238.20  9251.50  609053504.0  3.074345e+11   \n",
       "\n",
       "              P/E   P/B  Div Yield  \n",
       "Date                                \n",
       "2020-05-04  21.39  2.65       1.64  \n",
       "2020-05-05  21.19  2.62       1.65  \n",
       "2020-05-06  21.34  2.64       1.64  \n",
       "2020-05-07  21.18  2.62       1.65  \n",
       "2020-05-08  21.28  2.64       1.64  "
      ]
     },
     "execution_count": 18,
     "metadata": {},
     "output_type": "execute_result"
    }
   ],
   "source": [
    "nifty_50_df.tail()"
   ]
  },
  {
   "cell_type": "code",
   "execution_count": 19,
   "metadata": {},
   "outputs": [
    {
     "name": "stdout",
     "output_type": "stream",
     "text": [
      "<class 'pandas.core.frame.DataFrame'>\n",
      "DatetimeIndex: 5061 entries, 2000-01-03 to 2020-05-08\n",
      "Data columns (total 9 columns):\n",
      "Open         5061 non-null float64\n",
      "High         5061 non-null float64\n",
      "Low          5061 non-null float64\n",
      "Close        5061 non-null float64\n",
      "Volume       5060 non-null float64\n",
      "Turnover     5060 non-null float64\n",
      "P/E          5061 non-null float64\n",
      "P/B          5061 non-null float64\n",
      "Div Yield    5061 non-null float64\n",
      "dtypes: float64(9)\n",
      "memory usage: 395.4 KB\n"
     ]
    }
   ],
   "source": [
    "nifty_50_df.info()"
   ]
  },
  {
   "cell_type": "code",
   "execution_count": 20,
   "metadata": {},
   "outputs": [
    {
     "data": {
      "text/plain": [
       "5061"
      ]
     },
     "execution_count": 20,
     "metadata": {},
     "output_type": "execute_result"
    }
   ],
   "source": [
    "len(nifty_50_df)"
   ]
  },
  {
   "cell_type": "code",
   "execution_count": 21,
   "metadata": {},
   "outputs": [],
   "source": [
    "def fill(df):\n",
    "    return df.fillna(method='ffill')"
   ]
  },
  {
   "cell_type": "code",
   "execution_count": 22,
   "metadata": {},
   "outputs": [],
   "source": [
    "nifty_50_df=fill(nifty_50_df)"
   ]
  },
  {
   "cell_type": "code",
   "execution_count": 23,
   "metadata": {},
   "outputs": [
    {
     "name": "stdout",
     "output_type": "stream",
     "text": [
      "<class 'pandas.core.frame.DataFrame'>\n",
      "DatetimeIndex: 5061 entries, 2000-01-03 to 2020-05-08\n",
      "Data columns (total 9 columns):\n",
      "Open         5061 non-null float64\n",
      "High         5061 non-null float64\n",
      "Low          5061 non-null float64\n",
      "Close        5061 non-null float64\n",
      "Volume       5061 non-null float64\n",
      "Turnover     5061 non-null float64\n",
      "P/E          5061 non-null float64\n",
      "P/B          5061 non-null float64\n",
      "Div Yield    5061 non-null float64\n",
      "dtypes: float64(9)\n",
      "memory usage: 395.4 KB\n"
     ]
    }
   ],
   "source": [
    "nifty_50_df.info()"
   ]
  },
  {
   "cell_type": "code",
   "execution_count": 24,
   "metadata": {},
   "outputs": [
    {
     "data": {
      "text/html": [
       "<div>\n",
       "<style scoped>\n",
       "    .dataframe tbody tr th:only-of-type {\n",
       "        vertical-align: middle;\n",
       "    }\n",
       "\n",
       "    .dataframe tbody tr th {\n",
       "        vertical-align: top;\n",
       "    }\n",
       "\n",
       "    .dataframe thead th {\n",
       "        text-align: right;\n",
       "    }\n",
       "</style>\n",
       "<table border=\"1\" class=\"dataframe\">\n",
       "  <thead>\n",
       "    <tr style=\"text-align: right;\">\n",
       "      <th></th>\n",
       "      <th>Open</th>\n",
       "      <th>High</th>\n",
       "      <th>Low</th>\n",
       "      <th>Close</th>\n",
       "      <th>Volume</th>\n",
       "      <th>Turnover</th>\n",
       "      <th>P/E</th>\n",
       "      <th>P/B</th>\n",
       "      <th>Div Yield</th>\n",
       "    </tr>\n",
       "    <tr>\n",
       "      <th>Date</th>\n",
       "      <th></th>\n",
       "      <th></th>\n",
       "      <th></th>\n",
       "      <th></th>\n",
       "      <th></th>\n",
       "      <th></th>\n",
       "      <th></th>\n",
       "      <th></th>\n",
       "      <th></th>\n",
       "    </tr>\n",
       "  </thead>\n",
       "  <tbody>\n",
       "    <tr>\n",
       "      <th>2020-05-04</th>\n",
       "      <td>9533.50</td>\n",
       "      <td>9533.50</td>\n",
       "      <td>9266.95</td>\n",
       "      <td>9293.50</td>\n",
       "      <td>931173802.0</td>\n",
       "      <td>3.933246e+11</td>\n",
       "      <td>21.39</td>\n",
       "      <td>2.65</td>\n",
       "      <td>1.64</td>\n",
       "    </tr>\n",
       "    <tr>\n",
       "      <th>2020-05-05</th>\n",
       "      <td>9429.40</td>\n",
       "      <td>9450.90</td>\n",
       "      <td>9190.75</td>\n",
       "      <td>9205.60</td>\n",
       "      <td>725196178.0</td>\n",
       "      <td>2.970020e+11</td>\n",
       "      <td>21.19</td>\n",
       "      <td>2.62</td>\n",
       "      <td>1.65</td>\n",
       "    </tr>\n",
       "    <tr>\n",
       "      <th>2020-05-06</th>\n",
       "      <td>9226.80</td>\n",
       "      <td>9346.90</td>\n",
       "      <td>9116.50</td>\n",
       "      <td>9270.90</td>\n",
       "      <td>722185448.0</td>\n",
       "      <td>3.079810e+11</td>\n",
       "      <td>21.34</td>\n",
       "      <td>2.64</td>\n",
       "      <td>1.64</td>\n",
       "    </tr>\n",
       "    <tr>\n",
       "      <th>2020-05-07</th>\n",
       "      <td>9234.05</td>\n",
       "      <td>9277.85</td>\n",
       "      <td>9175.90</td>\n",
       "      <td>9199.05</td>\n",
       "      <td>708740416.0</td>\n",
       "      <td>5.970553e+11</td>\n",
       "      <td>21.18</td>\n",
       "      <td>2.62</td>\n",
       "      <td>1.65</td>\n",
       "    </tr>\n",
       "    <tr>\n",
       "      <th>2020-05-08</th>\n",
       "      <td>9376.95</td>\n",
       "      <td>9382.65</td>\n",
       "      <td>9238.20</td>\n",
       "      <td>9251.50</td>\n",
       "      <td>609053504.0</td>\n",
       "      <td>3.074345e+11</td>\n",
       "      <td>21.28</td>\n",
       "      <td>2.64</td>\n",
       "      <td>1.64</td>\n",
       "    </tr>\n",
       "  </tbody>\n",
       "</table>\n",
       "</div>"
      ],
      "text/plain": [
       "               Open     High      Low    Close       Volume      Turnover  \\\n",
       "Date                                                                        \n",
       "2020-05-04  9533.50  9533.50  9266.95  9293.50  931173802.0  3.933246e+11   \n",
       "2020-05-05  9429.40  9450.90  9190.75  9205.60  725196178.0  2.970020e+11   \n",
       "2020-05-06  9226.80  9346.90  9116.50  9270.90  722185448.0  3.079810e+11   \n",
       "2020-05-07  9234.05  9277.85  9175.90  9199.05  708740416.0  5.970553e+11   \n",
       "2020-05-08  9376.95  9382.65  9238.20  9251.50  609053504.0  3.074345e+11   \n",
       "\n",
       "              P/E   P/B  Div Yield  \n",
       "Date                                \n",
       "2020-05-04  21.39  2.65       1.64  \n",
       "2020-05-05  21.19  2.62       1.65  \n",
       "2020-05-06  21.34  2.64       1.64  \n",
       "2020-05-07  21.18  2.62       1.65  \n",
       "2020-05-08  21.28  2.64       1.64  "
      ]
     },
     "execution_count": 24,
     "metadata": {},
     "output_type": "execute_result"
    }
   ],
   "source": [
    "nifty_50_df.tail()"
   ]
  },
  {
   "cell_type": "code",
   "execution_count": 26,
   "metadata": {},
   "outputs": [
    {
     "data": {
      "text/plain": [
       "<matplotlib.axes._subplots.AxesSubplot at 0x2425f9be7c8>"
      ]
     },
     "execution_count": 26,
     "metadata": {},
     "output_type": "execute_result"
    },
    {
     "data": {
      "image/png": "[encoded data removed]",
      "text/plain": [
       "<Figure size 432x288 with 1 Axes>"
      ]
     },
     "metadata": {
      "needs_background": "light"
     },
     "output_type": "display_data"
    }
   ],
   "source": [
    "nifty_50_df['Close'].plot()"
   ]
  },
  {
   "cell_type": "code",
   "execution_count": 27,
   "metadata": {},
   "outputs": [
    {
     "data": {
      "text/html": [
       "<div>\n",
       "<style scoped>\n",
       "    .dataframe tbody tr th:only-of-type {\n",
       "        vertical-align: middle;\n",
       "    }\n",
       "\n",
       "    .dataframe tbody tr th {\n",
       "        vertical-align: top;\n",
       "    }\n",
       "\n",
       "    .dataframe thead th {\n",
       "        text-align: right;\n",
       "    }\n",
       "</style>\n",
       "<table border=\"1\" class=\"dataframe\">\n",
       "  <thead>\n",
       "    <tr style=\"text-align: right;\">\n",
       "      <th></th>\n",
       "      <th>Open</th>\n",
       "      <th>High</th>\n",
       "      <th>Low</th>\n",
       "      <th>Close</th>\n",
       "      <th>Volume</th>\n",
       "      <th>Turnover</th>\n",
       "      <th>P/E</th>\n",
       "      <th>P/B</th>\n",
       "      <th>Div Yield</th>\n",
       "    </tr>\n",
       "  </thead>\n",
       "  <tbody>\n",
       "    <tr>\n",
       "      <th>count</th>\n",
       "      <td>5061.000000</td>\n",
       "      <td>5061.000000</td>\n",
       "      <td>5061.000000</td>\n",
       "      <td>5061.000000</td>\n",
       "      <td>5.061000e+03</td>\n",
       "      <td>5.061000e+03</td>\n",
       "      <td>5061.000000</td>\n",
       "      <td>5061.000000</td>\n",
       "      <td>5061.000000</td>\n",
       "    </tr>\n",
       "    <tr>\n",
       "      <th>mean</th>\n",
       "      <td>5216.237977</td>\n",
       "      <td>5251.466667</td>\n",
       "      <td>5174.455009</td>\n",
       "      <td>5213.433768</td>\n",
       "      <td>1.665927e+08</td>\n",
       "      <td>6.832610e+10</td>\n",
       "      <td>20.037014</td>\n",
       "      <td>3.547459</td>\n",
       "      <td>1.428164</td>\n",
       "    </tr>\n",
       "    <tr>\n",
       "      <th>std</th>\n",
       "      <td>3274.529979</td>\n",
       "      <td>3283.745772</td>\n",
       "      <td>3257.303609</td>\n",
       "      <td>3270.073955</td>\n",
       "      <td>1.423491e+08</td>\n",
       "      <td>5.500614e+10</td>\n",
       "      <td>4.194021</td>\n",
       "      <td>0.799204</td>\n",
       "      <td>0.402380</td>\n",
       "    </tr>\n",
       "    <tr>\n",
       "      <th>min</th>\n",
       "      <td>853.000000</td>\n",
       "      <td>877.000000</td>\n",
       "      <td>849.950000</td>\n",
       "      <td>854.200000</td>\n",
       "      <td>1.394931e+06</td>\n",
       "      <td>4.012000e+08</td>\n",
       "      <td>10.680000</td>\n",
       "      <td>1.920000</td>\n",
       "      <td>0.590000</td>\n",
       "    </tr>\n",
       "    <tr>\n",
       "      <th>25%</th>\n",
       "      <td>1983.200000</td>\n",
       "      <td>1999.700000</td>\n",
       "      <td>1964.650000</td>\n",
       "      <td>1982.750000</td>\n",
       "      <td>7.772637e+07</td>\n",
       "      <td>3.018170e+10</td>\n",
       "      <td>17.110000</td>\n",
       "      <td>3.030000</td>\n",
       "      <td>1.180000</td>\n",
       "    </tr>\n",
       "    <tr>\n",
       "      <th>50%</th>\n",
       "      <td>5096.700000</td>\n",
       "      <td>5135.550000</td>\n",
       "      <td>5038.850000</td>\n",
       "      <td>5090.850000</td>\n",
       "      <td>1.370896e+08</td>\n",
       "      <td>5.794450e+10</td>\n",
       "      <td>20.090000</td>\n",
       "      <td>3.470000</td>\n",
       "      <td>1.330000</td>\n",
       "    </tr>\n",
       "    <tr>\n",
       "      <th>75%</th>\n",
       "      <td>7895.400000</td>\n",
       "      <td>7929.100000</td>\n",
       "      <td>7837.700000</td>\n",
       "      <td>7887.800000</td>\n",
       "      <td>1.983420e+08</td>\n",
       "      <td>8.494440e+10</td>\n",
       "      <td>22.860000</td>\n",
       "      <td>3.790000</td>\n",
       "      <td>1.550000</td>\n",
       "    </tr>\n",
       "    <tr>\n",
       "      <th>max</th>\n",
       "      <td>12430.500000</td>\n",
       "      <td>12430.500000</td>\n",
       "      <td>12321.400000</td>\n",
       "      <td>12362.300000</td>\n",
       "      <td>1.811564e+09</td>\n",
       "      <td>5.970553e+11</td>\n",
       "      <td>29.900000</td>\n",
       "      <td>6.550000</td>\n",
       "      <td>3.180000</td>\n",
       "    </tr>\n",
       "  </tbody>\n",
       "</table>\n",
       "</div>"
      ],
      "text/plain": [
       "               Open          High           Low         Close        Volume  \\\n",
       "count   5061.000000   5061.000000   5061.000000   5061.000000  5.061000e+03   \n",
       "mean    5216.237977   5251.466667   5174.455009   5213.433768  1.665927e+08   \n",
       "std     3274.529979   3283.745772   3257.303609   3270.073955  1.423491e+08   \n",
       "min      853.000000    877.000000    849.950000    854.200000  1.394931e+06   \n",
       "25%     1983.200000   1999.700000   1964.650000   1982.750000  7.772637e+07   \n",
       "50%     5096.700000   5135.550000   5038.850000   5090.850000  1.370896e+08   \n",
       "75%     7895.400000   7929.100000   7837.700000   7887.800000  1.983420e+08   \n",
       "max    12430.500000  12430.500000  12321.400000  12362.300000  1.811564e+09   \n",
       "\n",
       "           Turnover          P/E          P/B    Div Yield  \n",
       "count  5.061000e+03  5061.000000  5061.000000  5061.000000  \n",
       "mean   6.832610e+10    20.037014     3.547459     1.428164  \n",
       "std    5.500614e+10     4.194021     0.799204     0.402380  \n",
       "min    4.012000e+08    10.680000     1.920000     0.590000  \n",
       "25%    3.018170e+10    17.110000     3.030000     1.180000  \n",
       "50%    5.794450e+10    20.090000     3.470000     1.330000  \n",
       "75%    8.494440e+10    22.860000     3.790000     1.550000  \n",
       "max    5.970553e+11    29.900000     6.550000     3.180000  "
      ]
     },
     "execution_count": 27,
     "metadata": {},
     "output_type": "execute_result"
    }
   ],
   "source": [
    "nifty_50_df.describe()"
   ]
  },
  {
   "cell_type": "code",
   "execution_count": 28,
   "metadata": {},
   "outputs": [],
   "source": [
    "close_price = nifty_50_df['Close']\n",
    "mavg = close_price."
   ]
  },
  {
   "cell_type": "code",
   "execution_count": 31,
   "metadata": {},
   "outputs": [
    {
     "data": {
      "text/plain": [
       "Date\n",
       "2000-01-03           NaN\n",
       "2000-01-04           NaN\n",
       "2000-01-05           NaN\n",
       "2000-01-06           NaN\n",
       "2000-01-07           NaN\n",
       "                 ...    \n",
       "2020-05-04    10952.2100\n",
       "2020-05-05    10925.0510\n",
       "2020-05-06    10898.3850\n",
       "2020-05-07    10871.8075\n",
       "2020-05-08    10845.2210\n",
       "Name: Close, Length: 5061, dtype: float64"
      ]
     },
     "execution_count": 31,
     "metadata": {},
     "output_type": "execute_result"
    }
   ],
   "source": [
    "mavg"
   ]
  },
  {
   "cell_type": "code",
   "execution_count": null,
   "metadata": {},
   "outputs": [],
   "source": []
  }
 ],
 "metadata": {
  "kernelspec": {
   "display_name": "Python 3",
   "language": "python",
   "name": "python3"
  },
  "language_info": {
   "codemirror_mode": {
    "name": "ipython",
    "version": 3
   },
   "file_extension": ".py",
   "mimetype": "text/x-python",
   "name": "python",
   "nbconvert_exporter": "python",
   "pygments_lexer": "ipython3",
   "version": "3.7.6"
  }
 },
 "nbformat": 4,
 "nbformat_minor": 4
}
